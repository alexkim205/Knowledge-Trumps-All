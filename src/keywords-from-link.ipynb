{
 "cells": [
  {
   "cell_type": "code",
   "execution_count": 1,
   "metadata": {},
   "outputs": [],
   "source": [
    "from newspaper import Article"
   ]
  },
  {
   "cell_type": "code",
   "execution_count": 2,
   "metadata": {},
   "outputs": [],
   "source": [
    "link = 'https://www.cnn.com/2017/11/21/politics/franken-sex-senate-silence/'"
   ]
  },
  {
   "cell_type": "code",
   "execution_count": 3,
   "metadata": {},
   "outputs": [],
   "source": [
    "article = Article(link)\n",
    "article.download()\n",
    "article.parse()\n",
    "article.nlp()"
   ]
  },
  {
   "cell_type": "code",
   "execution_count": 4,
   "metadata": {},
   "outputs": [],
   "source": [
    "title = article.title\n",
    "keywords = article.keywords\n",
    "summary = article.summary"
   ]
  },
  {
   "cell_type": "code",
   "execution_count": 5,
   "metadata": {},
   "outputs": [],
   "source": [
    "json_data = {\n",
    "    'title': title,\n",
    "    'keywords': keywords,\n",
    "    'summary': summary\n",
    "}"
   ]
  },
  {
   "cell_type": "code",
   "execution_count": 6,
   "metadata": {},
   "outputs": [
    {
     "name": "stdout",
     "output_type": "stream",
     "text": [
      "{'title': 'The deafening silence of Al Franken', 'keywords': ['women', 'taking', 'deafening', 'allegations', 'dont', 'needs', 'silence', 'hes', 'cnn', 'week', 'al', 'franken', 'statement'], 'summary': '(CNN) Al Franken now stands accused of not only kissing and groping a woman in 2006, but also of grabbing another woman\\'s butt while she was taking a picture with him in 2010.\\nThat \"apology\" was met with universal disdain -- even in Democratic circles -- and so Franken quickly put out another, much longer statement .\\n\"I respect women,\" Franken said in it.\\n\"I take thousands of photos at the state fair surrounded by hundreds of people, and I certainly don\\'t remember taking this picture,\" Franken told CNN.\\nIn a culture rocked over the last seven weeks by near-daily reports of powerful men sexually harassing and even assaulting women, Franken\\'s silence is deafening -- and damning.'}\n"
     ]
    }
   ],
   "source": [
    "print(json_data)"
   ]
  },
  {
   "cell_type": "code",
   "execution_count": 8,
   "metadata": {},
   "outputs": [],
   "source": [
    "def get_info(request):\n",
    "    \"\"\"Responds to any HTTP request.\n",
    "    Args:\n",
    "        request (string): string url of article.\n",
    "    Returns:\n",
    "        JSON object with: title, keywords, summary.\n",
    "    \"\"\"\n",
    "    import nltk\n",
    "    nltk.download('punkt')\n",
    "    from newspaper import Article\n",
    "    \n",
    "    article = Article(request['url'])\n",
    "    article.download()\n",
    "    article.parse()\n",
    "    article.nlp()\n",
    "    \n",
    "    title = article.title\n",
    "    keywords = article.keywords\n",
    "    summary = article.summary\n",
    "\n",
    "    json_data = {\n",
    "        'title': title,\n",
    "        'keywords': keywords,\n",
    "        'summary': summary\n",
    "    }\n",
    "    return json_data"
   ]
  },
  {
   "cell_type": "code",
   "execution_count": 16,
   "metadata": {},
   "outputs": [
    {
     "name": "stdout",
     "output_type": "stream",
     "text": [
      "[nltk_data] Downloading package punkt to\n",
      "[nltk_data]     C:\\Users\\jacob\\AppData\\Roaming\\nltk_data...\n",
      "[nltk_data]   Package punkt is already up-to-date!\n"
     ]
    },
    {
     "data": {
      "text/plain": [
       "{'keywords': ['women',\n",
       "  'taking',\n",
       "  'deafening',\n",
       "  'allegations',\n",
       "  'dont',\n",
       "  'needs',\n",
       "  'silence',\n",
       "  'hes',\n",
       "  'cnn',\n",
       "  'week',\n",
       "  'al',\n",
       "  'franken',\n",
       "  'statement'],\n",
       " 'summary': '(CNN) Al Franken now stands accused of not only kissing and groping a woman in 2006, but also of grabbing another woman\\'s butt while she was taking a picture with him in 2010.\\nThat \"apology\" was met with universal disdain -- even in Democratic circles -- and so Franken quickly put out another, much longer statement .\\n\"I respect women,\" Franken said in it.\\n\"I take thousands of photos at the state fair surrounded by hundreds of people, and I certainly don\\'t remember taking this picture,\" Franken told CNN.\\nIn a culture rocked over the last seven weeks by near-daily reports of powerful men sexually harassing and even assaulting women, Franken\\'s silence is deafening -- and damning.',\n",
       " 'title': 'The deafening silence of Al Franken'}"
      ]
     },
     "execution_count": 16,
     "metadata": {},
     "output_type": "execute_result"
    }
   ],
   "source": [
    "json = {\"url\": \"https://www.cnn.com/2017/11/21/politics/franken-sex-senate-silence/\"}\n",
    "get_info(json)\n"
   ]
  },
  {
   "cell_type": "code",
   "execution_count": null,
   "metadata": {},
   "outputs": [],
   "source": []
  }
 ],
 "metadata": {
  "kernelspec": {
   "display_name": "Python 3",
   "language": "python",
   "name": "python3"
  },
  "language_info": {
   "codemirror_mode": {
    "name": "ipython",
    "version": 3
   },
   "file_extension": ".py",
   "mimetype": "text/x-python",
   "name": "python",
   "nbconvert_exporter": "python",
   "pygments_lexer": "ipython3",
   "version": "3.6.4"
  }
 },
 "nbformat": 4,
 "nbformat_minor": 2
}
