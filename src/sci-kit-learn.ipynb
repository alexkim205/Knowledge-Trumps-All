{
 "cells": [
  {
   "cell_type": "code",
   "execution_count": 1,
   "metadata": {},
   "outputs": [],
   "source": [
    "from sklearn.feature_extraction.text import CountVectorizer\n",
    "from sklearn.ensemble import RandomForestClassifier\n",
    "\n",
    "import csv, numpy, random\n",
    "data = list(csv.reader(open('TrumpSiteData.csv')))\n",
    "data2 = list(csv.reader(open('OtherSiteData.csv')))"
   ]
  },
  {
   "cell_type": "code",
   "execution_count": 2,
   "metadata": {},
   "outputs": [],
   "source": [
    "text = []\n",
    "result = []\n",
    "for x in data[1:]:\n",
    "    text.append(x[4])\n",
    "    result.append(1)\n",
    "for x in data2[1:]:\n",
    "    text.append(x[4])\n",
    "    result.append(0)"
   ]
  },
  {
   "cell_type": "code",
   "execution_count": 3,
   "metadata": {},
   "outputs": [],
   "source": [
    "vectorizer = CountVectorizer(max_features=1000)\n",
    "X = vectorizer.fit_transform(text)\n",
    "\n",
    "data_arr = []\n",
    "for x in range(len(result)):\n",
    "    data_arr.append(X[x].toarray())\n",
    "    data_arr[x] = data_arr[x][0]\n",
    "    data_arr[x] = numpy.insert(data_arr[x], 0, result[x])"
   ]
  },
  {
   "cell_type": "code",
   "execution_count": 4,
   "metadata": {},
   "outputs": [],
   "source": [
    "random.shuffle(data_arr)\n",
    "final_x = []\n",
    "final_y = []\n",
    "for x in data_arr:\n",
    "    final_x.append(x[1:])\n",
    "    final_y.append(x[0])\n",
    "pivot = int(0.8*len(final_y))"
   ]
  },
  {
   "cell_type": "code",
   "execution_count": 5,
   "metadata": {},
   "outputs": [
    {
     "data": {
      "text/plain": [
       "RandomForestClassifier(bootstrap=True, class_weight=None, criterion='gini',\n",
       "            max_depth=None, max_features='auto', max_leaf_nodes=None,\n",
       "            min_impurity_decrease=0.0, min_impurity_split=None,\n",
       "            min_samples_leaf=1, min_samples_split=2,\n",
       "            min_weight_fraction_leaf=0.0, n_estimators=10, n_jobs=1,\n",
       "            oob_score=False, random_state=None, verbose=0,\n",
       "            warm_start=False)"
      ]
     },
     "execution_count": 5,
     "metadata": {},
     "output_type": "execute_result"
    }
   ],
   "source": [
    "clf = RandomForestClassifier()\n",
    "clf.fit(final_x[:pivot],\n",
    "        final_y[:pivot])\n"
   ]
  },
  {
   "cell_type": "code",
   "execution_count": 6,
   "metadata": {},
   "outputs": [],
   "source": [
    "error = 0\n",
    "length = len(final_y)-pivot\n",
    "for x in range(length):\n",
    "    y_pred = clf.predict(final_x[pivot+x].reshape(1, -1))\n",
    "    error += abs(final_y[pivot+x] - y_pred)"
   ]
  },
  {
   "cell_type": "code",
   "execution_count": 7,
   "metadata": {},
   "outputs": [
    {
     "name": "stdout",
     "output_type": "stream",
     "text": [
      "[0.83495146]\n"
     ]
    }
   ],
   "source": [
    "print(1-error/length)"
   ]
  },
  {
   "cell_type": "code",
   "execution_count": null,
   "metadata": {},
   "outputs": [],
   "source": []
  }
 ],
 "metadata": {
  "kernelspec": {
   "display_name": "Python 3",
   "language": "python",
   "name": "python3"
  },
  "language_info": {
   "codemirror_mode": {
    "name": "ipython",
    "version": 3
   },
   "file_extension": ".py",
   "mimetype": "text/x-python",
   "name": "python",
   "nbconvert_exporter": "python",
   "pygments_lexer": "ipython3",
   "version": "3.6.4"
  }
 },
 "nbformat": 4,
 "nbformat_minor": 2
}
