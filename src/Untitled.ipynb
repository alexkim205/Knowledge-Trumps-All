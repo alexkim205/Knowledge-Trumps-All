{
 "cells": [
  {
   "cell_type": "code",
   "execution_count": null,
   "metadata": {},
   "outputs": [],
   "source": [
    "raw = readcsv(\"Write2File.csv\");\n",
    "\n",
    "n = size(raw)[1]\n",
    "\n",
    "using JuMP, Gurobi\n",
    "\n",
    "# minimize the 1-norm\n",
    "m = Model(solver=GurobiSolver(OutputFlag=0))\n",
    "y = 100\n",
    "\n",
    "@variable(m, a[1:length(raw)])\n",
    "@variable(m, t[1:length(raw)])\n",
    "@constraint(m, y- sum(raw[j]*a[j] for j in length(raw)) .<= t )\n",
    "@constraint(m, -t .<= -y + sum(raw[j]*a[j] for j in length(raw)))\n",
    "@objective(m, Min, sum(t) )\n",
    "\n",
    "solve(m)\n",
    "\n",
    "println(\"The optimal x value is: \", getvalue(x))"
   ]
  },
  {
   "cell_type": "code",
   "execution_count": 6,
   "metadata": {},
   "outputs": [
    {
     "data": {
      "text/plain": [
       "663"
      ]
     },
     "execution_count": 6,
     "metadata": {},
     "output_type": "execute_result"
    }
   ],
   "source": [
    "size(raw)[1]"
   ]
  },
  {
   "cell_type": "code",
   "execution_count": null,
   "metadata": {},
   "outputs": [],
   "source": []
  },
  {
   "cell_type": "code",
   "execution_count": null,
   "metadata": {},
   "outputs": [],
   "source": []
  }
 ],
 "metadata": {
  "kernelspec": {
   "display_name": "Julia 0.6.2",
   "language": "julia",
   "name": "julia-0.6"
  },
  "language_info": {
   "file_extension": ".jl",
   "mimetype": "application/julia",
   "name": "julia",
   "version": "0.6.2"
  }
 },
 "nbformat": 4,
 "nbformat_minor": 2
}
