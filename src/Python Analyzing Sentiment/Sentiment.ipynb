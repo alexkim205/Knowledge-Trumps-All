{
 "cells": [
  {
   "cell_type": "code",
   "execution_count": 78,
   "metadata": {},
   "outputs": [
    {
     "name": "stdout",
     "output_type": "stream",
     "text": [
      "[nltk_data] Downloading package punkt to\n",
      "[nltk_data]     C:\\Users\\tjbli\\AppData\\Roaming\\nltk_data...\n",
      "[nltk_data]   Package punkt is already up-to-date!\n"
     ]
    }
   ],
   "source": [
    "from newspaper import Article\n",
    "import nltk\n",
    "import os\n",
    "import pandas as pd\n",
    "import numpy as np\n",
    "nltk.download('punkt')\n",
    "from google.cloud import language\n",
    "from google.cloud.language import enums\n",
    "from google.cloud.language import types\n",
    "\n",
    "os.environ['GOOGLE_APPLICATION_CREDENTIALS'] =os.getcwd()+'/My First Project-9745e39aad48.json'"
   ]
  },
  {
   "cell_type": "code",
   "execution_count": 79,
   "metadata": {},
   "outputs": [],
   "source": [
    "westwing = pd.read_csv(\"C:/Users/tjbli/OneDrive/Columbia Fall 2018/Hackathons/west_wing_reads.csv\")"
   ]
  },
  {
   "cell_type": "code",
   "execution_count": 80,
   "metadata": {},
   "outputs": [
    {
     "data": {
      "text/html": [
       "<div>\n",
       "<style scoped>\n",
       "    .dataframe tbody tr th:only-of-type {\n",
       "        vertical-align: middle;\n",
       "    }\n",
       "\n",
       "    .dataframe tbody tr th {\n",
       "        vertical-align: top;\n",
       "    }\n",
       "\n",
       "    .dataframe thead th {\n",
       "        text-align: right;\n",
       "    }\n",
       "</style>\n",
       "<table border=\"1\" class=\"dataframe\">\n",
       "  <thead>\n",
       "    <tr style=\"text-align: right;\">\n",
       "      <th></th>\n",
       "      <th>date</th>\n",
       "      <th>link</th>\n",
       "      <th>publisher</th>\n",
       "      <th>title</th>\n",
       "      <th>authors</th>\n",
       "      <th>meta_keywords</th>\n",
       "      <th>published_date</th>\n",
       "      <th>entities</th>\n",
       "      <th>extracted_keywords</th>\n",
       "    </tr>\n",
       "  </thead>\n",
       "  <tbody>\n",
       "    <tr>\n",
       "      <th>0</th>\n",
       "      <td>2018-06-13 00:00:00</td>\n",
       "      <td>http://www.foxnews.com/opinion/2018/06/12/trum...</td>\n",
       "      <td>foxnews.com</td>\n",
       "      <td>Trump meets Kim and sets the stage for fundame...</td>\n",
       "      <td>{\"Christian Whiton\"}</td>\n",
       "      <td>{\"\"}</td>\n",
       "      <td>2018-06-12 00:00:00</td>\n",
       "      <td>[\"https://en.wikipedia.org/wiki/Mike_Pence\", \"...</td>\n",
       "      <td>{Finally,North,Trump,Singapore,\"North Korean\",...</td>\n",
       "    </tr>\n",
       "    <tr>\n",
       "      <th>1</th>\n",
       "      <td>2018-06-13 00:00:00</td>\n",
       "      <td>http://www.foxnews.com/politics/2018/06/12/nor...</td>\n",
       "      <td>foxnews.com</td>\n",
       "      <td>North Korea agrees to ‘complete denuclearizati...</td>\n",
       "      <td>{\"Edmund DeMarche\"}</td>\n",
       "      <td>{\"\"}</td>\n",
       "      <td>2018-06-12 00:00:00</td>\n",
       "      <td>[\"https://en.wikipedia.org/wiki/South_Korea\\u2...</td>\n",
       "      <td>{Korean,\"United States\",\"Hermit Kingdom\",Defen...</td>\n",
       "    </tr>\n",
       "    <tr>\n",
       "      <th>2</th>\n",
       "      <td>2018-06-13 00:00:00</td>\n",
       "      <td>https://www.cnbc.com/2018/06/12/small-business...</td>\n",
       "      <td>cnbc.com</td>\n",
       "      <td>Small business optimism jumps to second-highes...</td>\n",
       "      <td>{\"Evelyn Cheng\"}</td>\n",
       "      <td>{\"\",\"U.S. Markets\",Articles,Markets,\"Small Bus...</td>\n",
       "      <td>2018-06-12 11:54:38</td>\n",
       "      <td>[\"https://en.wikipedia.org/wiki/National_Feder...</td>\n",
       "      <td>{\"National Federation\",Commerce,Data,Estakhria...</td>\n",
       "    </tr>\n",
       "    <tr>\n",
       "      <th>3</th>\n",
       "      <td>2018-06-20 00:00:00</td>\n",
       "      <td>http://thehill.com/opinion/finance/393007-free...</td>\n",
       "      <td>thehill.com</td>\n",
       "      <td>Free trade only works when fair trade is enforced</td>\n",
       "      <td>{\"Joe Patton\"}</td>\n",
       "      <td>{\"\"}</td>\n",
       "      <td>2018-06-19 19:00:06</td>\n",
       "      <td>[\"https://en.wikipedia.org/wiki/United_States_...</td>\n",
       "      <td>{Congress,Commerce,Canadian,United,American,Ca...</td>\n",
       "    </tr>\n",
       "    <tr>\n",
       "      <th>4</th>\n",
       "      <td>2018-06-20 00:00:00</td>\n",
       "      <td>https://www.dailysignal.com/2018/06/19/trump-a...</td>\n",
       "      <td>dailysignal.com</td>\n",
       "      <td>Trump Administration Action Could Lower Health...</td>\n",
       "      <td>{\"Fred Lucas\"}</td>\n",
       "      <td>{}</td>\n",
       "      <td>2018-06-19 13:30:48</td>\n",
       "      <td>[\"https://en.wikipedia.org/wiki/United_States_...</td>\n",
       "      <td>{Further,\"Labor Department\",\"Daily Signal\",\"In...</td>\n",
       "    </tr>\n",
       "  </tbody>\n",
       "</table>\n",
       "</div>"
      ],
      "text/plain": [
       "                  date                                               link  \\\n",
       "0  2018-06-13 00:00:00  http://www.foxnews.com/opinion/2018/06/12/trum...   \n",
       "1  2018-06-13 00:00:00  http://www.foxnews.com/politics/2018/06/12/nor...   \n",
       "2  2018-06-13 00:00:00  https://www.cnbc.com/2018/06/12/small-business...   \n",
       "3  2018-06-20 00:00:00  http://thehill.com/opinion/finance/393007-free...   \n",
       "4  2018-06-20 00:00:00  https://www.dailysignal.com/2018/06/19/trump-a...   \n",
       "\n",
       "         publisher                                              title  \\\n",
       "0      foxnews.com  Trump meets Kim and sets the stage for fundame...   \n",
       "1      foxnews.com  North Korea agrees to ‘complete denuclearizati...   \n",
       "2         cnbc.com  Small business optimism jumps to second-highes...   \n",
       "3      thehill.com  Free trade only works when fair trade is enforced   \n",
       "4  dailysignal.com  Trump Administration Action Could Lower Health...   \n",
       "\n",
       "                authors                                      meta_keywords  \\\n",
       "0  {\"Christian Whiton\"}                                               {\"\"}   \n",
       "1   {\"Edmund DeMarche\"}                                               {\"\"}   \n",
       "2      {\"Evelyn Cheng\"}  {\"\",\"U.S. Markets\",Articles,Markets,\"Small Bus...   \n",
       "3        {\"Joe Patton\"}                                               {\"\"}   \n",
       "4        {\"Fred Lucas\"}                                                 {}   \n",
       "\n",
       "        published_date                                           entities  \\\n",
       "0  2018-06-12 00:00:00  [\"https://en.wikipedia.org/wiki/Mike_Pence\", \"...   \n",
       "1  2018-06-12 00:00:00  [\"https://en.wikipedia.org/wiki/South_Korea\\u2...   \n",
       "2  2018-06-12 11:54:38  [\"https://en.wikipedia.org/wiki/National_Feder...   \n",
       "3  2018-06-19 19:00:06  [\"https://en.wikipedia.org/wiki/United_States_...   \n",
       "4  2018-06-19 13:30:48  [\"https://en.wikipedia.org/wiki/United_States_...   \n",
       "\n",
       "                                  extracted_keywords  \n",
       "0  {Finally,North,Trump,Singapore,\"North Korean\",...  \n",
       "1  {Korean,\"United States\",\"Hermit Kingdom\",Defen...  \n",
       "2  {\"National Federation\",Commerce,Data,Estakhria...  \n",
       "3  {Congress,Commerce,Canadian,United,American,Ca...  \n",
       "4  {Further,\"Labor Department\",\"Daily Signal\",\"In...  "
      ]
     },
     "execution_count": 80,
     "metadata": {},
     "output_type": "execute_result"
    }
   ],
   "source": [
    "westwing.head()"
   ]
  },
  {
   "cell_type": "code",
   "execution_count": 81,
   "metadata": {},
   "outputs": [],
   "source": [
    "websitesToKeep = [\"foxnews.com\", \"washingtonexaminer.com\", \"wsj.com\", \"washingtontimes.com\", \"usatoday.com\", \n",
    "                  \"washingtonpost.com\", \"nytimes.com\", \"cnn.com\", \"nbcnews.com\", \"thehill.com\"]"
   ]
  },
  {
   "cell_type": "code",
   "execution_count": 104,
   "metadata": {},
   "outputs": [],
   "source": [
    "westwing = westwing[westwing['publisher'].isin(websitesToKeep)]\n",
    "westwing = westwing.reset_index()"
   ]
  },
  {
   "cell_type": "code",
   "execution_count": 105,
   "metadata": {},
   "outputs": [],
   "source": [
    "df_sentiment = {\"Publisher\": np.empty([1,len(westwing)], dtype = object), \n",
    "                                       \"Score\": np.zeros(len(westwing)),\n",
    "                                       \"Magnitude\": np.zeros(len(westwing))}"
   ]
  },
  {
   "cell_type": "code",
   "execution_count": null,
   "metadata": {},
   "outputs": [],
   "source": [
    "x = np.arange(0,len(westwing))\n",
    "client = language.LanguageServiceClient()\n",
    "\n",
    "for i in x:\n",
    "    url = westwing['link'][i]\n",
    "    article1 = Article(url)\n",
    "    article1.download()\n",
    "    article1.parse()\n",
    "    article1.nlp()\n",
    "    text = article1.summary\n",
    "    \n",
    "    document = types.Document(\n",
    "    content=text,\n",
    "    type=enums.Document.Type.PLAIN_TEXT)\n",
    "\n",
    "    # Detects the sentiment of the text\n",
    "    sentiment = client.analyze_sentiment(document=document).document_sentiment\n",
    "\n",
    "    df_sentiment[\"Publisher\"][0][i] = westwing[\"publisher\"][i]\n",
    "    df_sentiment[\"Score\"][i] = sentiment.score \n",
    "    df_sentiment[\"Magnitude\"][i] = sentiment.magnitude"
   ]
  },
  {
   "cell_type": "code",
   "execution_count": 74,
   "metadata": {},
   "outputs": [],
   "source": [
    " df_sentiment[\"Publisher\"][0][1]"
   ]
  },
  {
   "cell_type": "code",
   "execution_count": 92,
   "metadata": {},
   "outputs": [
    {
     "data": {
      "text/plain": [
       "'http://www.foxnews.com/politics/2018/06/12/north-korea-agrees-to-complete-denuclearization-korean-peninsula-after-trump-kim-summit.html'"
      ]
     },
     "execution_count": 92,
     "metadata": {},
     "output_type": "execute_result"
    }
   ],
   "source": [
    "westwing['link'][1]"
   ]
  },
  {
   "cell_type": "code",
   "execution_count": 77,
   "metadata": {},
   "outputs": [
    {
     "data": {
      "text/plain": [
       "0.0"
      ]
     },
     "execution_count": 77,
     "metadata": {},
     "output_type": "execute_result"
    }
   ],
   "source": [
    "sentiment.score"
   ]
  },
  {
   "cell_type": "code",
   "execution_count": 103,
   "metadata": {},
   "outputs": [
    {
     "data": {
      "text/plain": [
       "'http://thehill.com/opinion/finance/393007-free-trade-only-works-when-fair-trade-is-enforced'"
      ]
     },
     "execution_count": 103,
     "metadata": {},
     "output_type": "execute_result"
    }
   ],
   "source": [
    "westwing.link[3]"
   ]
  },
  {
   "cell_type": "code",
   "execution_count": null,
   "metadata": {},
   "outputs": [],
   "source": []
  }
 ],
 "metadata": {
  "kernelspec": {
   "display_name": "Python 3",
   "language": "python",
   "name": "python3"
  },
  "language_info": {
   "codemirror_mode": {
    "name": "ipython",
    "version": 3
   },
   "file_extension": ".py",
   "mimetype": "text/x-python",
   "name": "python",
   "nbconvert_exporter": "python",
   "pygments_lexer": "ipython3",
   "version": "3.6.5"
  }
 },
 "nbformat": 4,
 "nbformat_minor": 2
}
